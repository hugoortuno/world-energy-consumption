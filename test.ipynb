{
 "cells": [
  {
   "cell_type": "code",
   "execution_count": null,
   "metadata": {},
   "outputs": [],
   "source": [
    "pip install openpyxl"
   ]
  },
  {
   "cell_type": "code",
   "execution_count": 1,
   "metadata": {},
   "outputs": [],
   "source": [
    "import database, functions"
   ]
  },
  {
   "cell_type": "code",
   "execution_count": 2,
   "metadata": {},
   "outputs": [],
   "source": [
    "energy_engine =database.connect_to_db('energy')"
   ]
  },
  {
   "cell_type": "code",
   "execution_count": 3,
   "metadata": {},
   "outputs": [
    {
     "name": "stdout",
     "output_type": "stream",
     "text": [
      "La tabla 'energy_data_raw' se ha insertado exitosamente en la base de datos.\n",
      "La tabla 'codebook_raw' se ha insertado exitosamente en la base de datos.\n",
      "La tabla 'country_info_raw' se ha insertado exitosamente en la base de datos.\n"
     ]
    }
   ],
   "source": [
    "energy_df = functions.read_raw_energy_data()\n",
    "database.df_to_mysql_table(energy_df, 'energy_data_raw', energy_engine)\n",
    "codebook_df = functions.read_raw_energy_codebook()\n",
    "database.df_to_mysql_table(codebook_df, 'codebook_raw', energy_engine)\n",
    "country_info_df = functions.read_raw_country_info()\n",
    "database.df_to_mysql_table(country_info_df, 'country_info_raw', energy_engine)"
   ]
  },
  {
   "cell_type": "code",
   "execution_count": 4,
   "metadata": {},
   "outputs": [],
   "source": [
    "energy_df_cleaned = functions.drop_aggregated_data(energy_df, ['iso_code', 'country', 'year'])\n",
    "config_df = functions.read_config()\n",
    "\n",
    "energy_df_cleaned = functions.keep_and_rename_columns(energy_df_cleaned, config_df)"
   ]
  },
  {
   "cell_type": "code",
   "execution_count": 5,
   "metadata": {},
   "outputs": [
    {
     "name": "stdout",
     "output_type": "stream",
     "text": [
      "La tabla 'energy_data' se ha insertado exitosamente en la base de datos.\n"
     ]
    }
   ],
   "source": [
    "energy_df_cleaned.sort_values(by=['País', 'Año'], inplace=True)\n",
    "energy_df_cleaned = functions.interpolate_missing_data(energy_df_cleaned, 'País', 'PIB (Producto Interno Bruto)')\n",
    "energy_df_cleaned = functions.datatype_conversion(energy_df_cleaned)\n",
    "database.df_to_mysql_table(energy_df_cleaned, 'energy_data', energy_engine)"
   ]
  },
  {
   "cell_type": "code",
   "execution_count": null,
   "metadata": {},
   "outputs": [],
   "source": [
    "functions.dataset_info(energy_df_cleaned)"
   ]
  },
  {
   "cell_type": "code",
   "execution_count": null,
   "metadata": {},
   "outputs": [],
   "source": [
    "functions.plot_data(energy_df_cleaned)"
   ]
  },
  {
   "cell_type": "code",
   "execution_count": 7,
   "metadata": {},
   "outputs": [
    {
     "name": "stdout",
     "output_type": "stream",
     "text": [
      "Data saved to ./cleaned/energy_data.xlsx\n"
     ]
    }
   ],
   "source": [
    "# SQL query\n",
    "query = \"\"\"\n",
    "SELECT *\n",
    "FROM `energy`.`energy_data` AS e\n",
    "JOIN (\n",
    "    SELECT Region AS `Región`, LifeExpectancy AS `Expectativa de vida`, Code\n",
    "    FROM world.country\n",
    ") AS w ON e.`Código ISO` = w.`Code`\n",
    "JOIN (\n",
    "    SELECT name_es AS `País ES`, continent_es AS Continente, km2 AS `Superficie, km2`, code_3 \n",
    "    FROM energy.country_info_raw\n",
    ") AS c ON e.`Código ISO` = c.code_3;\n",
    "\"\"\"\n",
    "\n",
    "df = database.select_data_for_powerbi(energy_engine, query)\n",
    "\n",
    "if df.empty:\n",
    "    print(\"La consulta no resultó exitosa\")\n",
    "\n",
    "excel_filename = './cleaned/energy_data.xlsx'\n",
    "df.to_excel(excel_filename, index=False)\n",
    "print(f\"Data saved to {excel_filename}\")\n"
   ]
  }
 ],
 "metadata": {
  "kernelspec": {
   "display_name": "venv",
   "language": "python",
   "name": "python3"
  },
  "language_info": {
   "codemirror_mode": {
    "name": "ipython",
    "version": 3
   },
   "file_extension": ".py",
   "mimetype": "text/x-python",
   "name": "python",
   "nbconvert_exporter": "python",
   "pygments_lexer": "ipython3",
   "version": "3.12.6"
  }
 },
 "nbformat": 4,
 "nbformat_minor": 2
}
